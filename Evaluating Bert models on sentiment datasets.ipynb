{
  "nbformat": 4,
  "nbformat_minor": 0,
  "metadata": {
    "colab": {
      "name": "Evaluating Bert models on sentiment datasets.ipynb",
      "provenance": []
    },
    "kernelspec": {
      "name": "python3",
      "display_name": "Python 3"
    },
    "accelerator": "GPU"
  },
  "cells": [
    {
      "cell_type": "code",
      "metadata": {
        "id": "SW9p8k3GpCUh",
        "colab_type": "code",
        "colab": {}
      },
      "source": [
        "import numpy as np\n",
        "import pandas as pd\n",
        "from sklearn.preprocessing import LabelEncoder\n",
        "from sklearn.model_selection import train_test_split"
      ],
      "execution_count": null,
      "outputs": []
    },
    {
      "cell_type": "code",
      "metadata": {
        "id": "4q9kMzKZp75t",
        "colab_type": "code",
        "colab": {
          "base_uri": "https://localhost:8080/",
          "height": 195
        },
        "outputId": "9c2ca800-40b0-45c8-f513-a95dc301a904"
      },
      "source": [
        "data_train= pd.read_csv(\"trainA.csv\", header=None)\n",
        "data_test= pd.read_csv(\"testA.csv\", header=None)\n",
        "data_train.head(5)"
      ],
      "execution_count": null,
      "outputs": [
        {
          "output_type": "execute_result",
          "data": {
            "text/html": [
              "<div>\n",
              "<style scoped>\n",
              "    .dataframe tbody tr th:only-of-type {\n",
              "        vertical-align: middle;\n",
              "    }\n",
              "\n",
              "    .dataframe tbody tr th {\n",
              "        vertical-align: top;\n",
              "    }\n",
              "\n",
              "    .dataframe thead th {\n",
              "        text-align: right;\n",
              "    }\n",
              "</style>\n",
              "<table border=\"1\" class=\"dataframe\">\n",
              "  <thead>\n",
              "    <tr style=\"text-align: right;\">\n",
              "      <th></th>\n",
              "      <th>0</th>\n",
              "      <th>1</th>\n",
              "    </tr>\n",
              "  </thead>\n",
              "  <tbody>\n",
              "    <tr>\n",
              "      <th>0</th>\n",
              "      <td>2</td>\n",
              "      <td>WASHINGTON — The White House moved on Thursday...</td>\n",
              "    </tr>\n",
              "    <tr>\n",
              "      <th>1</th>\n",
              "      <td>2</td>\n",
              "      <td>Text size\\n\\nJust a year ago, American health-...</td>\n",
              "    </tr>\n",
              "    <tr>\n",
              "      <th>2</th>\n",
              "      <td>2</td>\n",
              "      <td>As communities around the world face an unprec...</td>\n",
              "    </tr>\n",
              "    <tr>\n",
              "      <th>3</th>\n",
              "      <td>2</td>\n",
              "      <td>CHOLOMA, Honduras — More than 400 people died ...</td>\n",
              "    </tr>\n",
              "    <tr>\n",
              "      <th>4</th>\n",
              "      <td>2</td>\n",
              "      <td>TORONTO, Oct. 11, 2019 /CNW/ - While Premier D...</td>\n",
              "    </tr>\n",
              "  </tbody>\n",
              "</table>\n",
              "</div>"
            ],
            "text/plain": [
              "   0                                                  1\n",
              "0  2  WASHINGTON — The White House moved on Thursday...\n",
              "1  2  Text size\\n\\nJust a year ago, American health-...\n",
              "2  2  As communities around the world face an unprec...\n",
              "3  2  CHOLOMA, Honduras — More than 400 people died ...\n",
              "4  2  TORONTO, Oct. 11, 2019 /CNW/ - While Premier D..."
            ]
          },
          "metadata": {
            "tags": []
          },
          "execution_count": 47
        }
      ]
    },
    {
      "cell_type": "code",
      "metadata": {
        "id": "orcQ_P6yt8GS",
        "colab_type": "code",
        "colab": {
          "base_uri": "https://localhost:8080/",
          "height": 34
        },
        "outputId": "58b9b2f2-0a65-4bd6-bdf9-f70d934b578c"
      },
      "source": [
        "data_train[0].unique()"
      ],
      "execution_count": null,
      "outputs": [
        {
          "output_type": "execute_result",
          "data": {
            "text/plain": [
              "array([2, 1, 0])"
            ]
          },
          "metadata": {
            "tags": []
          },
          "execution_count": 48
        }
      ]
    },
    {
      "cell_type": "code",
      "metadata": {
        "id": "bGKKXWcwt_Be",
        "colab_type": "code",
        "colab": {
          "base_uri": "https://localhost:8080/",
          "height": 34
        },
        "outputId": "3c872872-ecdf-46b1-ac62-443843316b65"
      },
      "source": [
        "data_test[0].unique()"
      ],
      "execution_count": null,
      "outputs": [
        {
          "output_type": "execute_result",
          "data": {
            "text/plain": [
              "array([2, 1, 0])"
            ]
          },
          "metadata": {
            "tags": []
          },
          "execution_count": 49
        }
      ]
    },
    {
      "cell_type": "code",
      "metadata": {
        "id": "jYR5m9KY1Bp5",
        "colab_type": "code",
        "colab": {}
      },
      "source": [
        "df_bert = pd.DataFrame({\n",
        " 'id':range(len(data_train)),\n",
        " 'label':data_train[0],\n",
        " 'alpha':['a']*data_train.shape[0],\n",
        " 'text': data_train[1].replace(r'\\n', ' ', regex=True)\n",
        "})"
      ],
      "execution_count": null,
      "outputs": []
    },
    {
      "cell_type": "code",
      "metadata": {
        "id": "ikpD0fqT1UDD",
        "colab_type": "code",
        "colab": {
          "base_uri": "https://localhost:8080/",
          "height": 195
        },
        "outputId": "69e79815-5a77-47be-e14d-2cde3bd21d29"
      },
      "source": [
        "df_bert.head()"
      ],
      "execution_count": null,
      "outputs": [
        {
          "output_type": "execute_result",
          "data": {
            "text/html": [
              "<div>\n",
              "<style scoped>\n",
              "    .dataframe tbody tr th:only-of-type {\n",
              "        vertical-align: middle;\n",
              "    }\n",
              "\n",
              "    .dataframe tbody tr th {\n",
              "        vertical-align: top;\n",
              "    }\n",
              "\n",
              "    .dataframe thead th {\n",
              "        text-align: right;\n",
              "    }\n",
              "</style>\n",
              "<table border=\"1\" class=\"dataframe\">\n",
              "  <thead>\n",
              "    <tr style=\"text-align: right;\">\n",
              "      <th></th>\n",
              "      <th>id</th>\n",
              "      <th>label</th>\n",
              "      <th>alpha</th>\n",
              "      <th>text</th>\n",
              "    </tr>\n",
              "  </thead>\n",
              "  <tbody>\n",
              "    <tr>\n",
              "      <th>0</th>\n",
              "      <td>0</td>\n",
              "      <td>2</td>\n",
              "      <td>a</td>\n",
              "      <td>WASHINGTON — The White House moved on Thursday...</td>\n",
              "    </tr>\n",
              "    <tr>\n",
              "      <th>1</th>\n",
              "      <td>1</td>\n",
              "      <td>2</td>\n",
              "      <td>a</td>\n",
              "      <td>Text size  Just a year ago, American health-in...</td>\n",
              "    </tr>\n",
              "    <tr>\n",
              "      <th>2</th>\n",
              "      <td>2</td>\n",
              "      <td>2</td>\n",
              "      <td>a</td>\n",
              "      <td>As communities around the world face an unprec...</td>\n",
              "    </tr>\n",
              "    <tr>\n",
              "      <th>3</th>\n",
              "      <td>3</td>\n",
              "      <td>2</td>\n",
              "      <td>a</td>\n",
              "      <td>CHOLOMA, Honduras — More than 400 people died ...</td>\n",
              "    </tr>\n",
              "    <tr>\n",
              "      <th>4</th>\n",
              "      <td>4</td>\n",
              "      <td>2</td>\n",
              "      <td>a</td>\n",
              "      <td>TORONTO, Oct. 11, 2019 /CNW/ - While Premier D...</td>\n",
              "    </tr>\n",
              "  </tbody>\n",
              "</table>\n",
              "</div>"
            ],
            "text/plain": [
              "   id  label alpha                                               text\n",
              "0   0      2     a  WASHINGTON — The White House moved on Thursday...\n",
              "1   1      2     a  Text size  Just a year ago, American health-in...\n",
              "2   2      2     a  As communities around the world face an unprec...\n",
              "3   3      2     a  CHOLOMA, Honduras — More than 400 people died ...\n",
              "4   4      2     a  TORONTO, Oct. 11, 2019 /CNW/ - While Premier D..."
            ]
          },
          "metadata": {
            "tags": []
          },
          "execution_count": 51
        }
      ]
    },
    {
      "cell_type": "code",
      "metadata": {
        "id": "wPbPHnVM1jAC",
        "colab_type": "code",
        "colab": {}
      },
      "source": [
        "df_bert_train, df_bert_dev = train_test_split(df_bert, test_size=0.01)"
      ],
      "execution_count": null,
      "outputs": []
    },
    {
      "cell_type": "code",
      "metadata": {
        "id": "tnC_QxVs1nAC",
        "colab_type": "code",
        "colab": {
          "base_uri": "https://localhost:8080/",
          "height": 195
        },
        "outputId": "36656a18-50e2-4e8c-8f7a-78babfcf3ca5"
      },
      "source": [
        "df_bert_test = pd.DataFrame({\n",
        " 'id':range(len(data_test)),\n",
        " 'text': data_test[1].replace(r'\\n', ' ', regex=True)\n",
        "})\n",
        "df_bert_test.tail()"
      ],
      "execution_count": null,
      "outputs": [
        {
          "output_type": "execute_result",
          "data": {
            "text/html": [
              "<div>\n",
              "<style scoped>\n",
              "    .dataframe tbody tr th:only-of-type {\n",
              "        vertical-align: middle;\n",
              "    }\n",
              "\n",
              "    .dataframe tbody tr th {\n",
              "        vertical-align: top;\n",
              "    }\n",
              "\n",
              "    .dataframe thead th {\n",
              "        text-align: right;\n",
              "    }\n",
              "</style>\n",
              "<table border=\"1\" class=\"dataframe\">\n",
              "  <thead>\n",
              "    <tr style=\"text-align: right;\">\n",
              "      <th></th>\n",
              "      <th>id</th>\n",
              "      <th>text</th>\n",
              "    </tr>\n",
              "  </thead>\n",
              "  <tbody>\n",
              "    <tr>\n",
              "      <th>651</th>\n",
              "      <td>651</td>\n",
              "      <td>An immunotherapy drug has been hailed as a pot...</td>\n",
              "    </tr>\n",
              "    <tr>\n",
              "      <th>652</th>\n",
              "      <td>652</td>\n",
              "      <td>Philadelphia, PA, August 14, 2017 - Stanford U...</td>\n",
              "    </tr>\n",
              "    <tr>\n",
              "      <th>653</th>\n",
              "      <td>653</td>\n",
              "      <td>LOS ANGELES - The supplement Aged Garlic Extra...</td>\n",
              "    </tr>\n",
              "    <tr>\n",
              "      <th>654</th>\n",
              "      <td>654</td>\n",
              "      <td>Worcester, Mass. - When the standard malaria m...</td>\n",
              "    </tr>\n",
              "    <tr>\n",
              "      <th>655</th>\n",
              "      <td>655</td>\n",
              "      <td>WHAT: A new study shows that the drug fenofibr...</td>\n",
              "    </tr>\n",
              "  </tbody>\n",
              "</table>\n",
              "</div>"
            ],
            "text/plain": [
              "      id                                               text\n",
              "651  651  An immunotherapy drug has been hailed as a pot...\n",
              "652  652  Philadelphia, PA, August 14, 2017 - Stanford U...\n",
              "653  653  LOS ANGELES - The supplement Aged Garlic Extra...\n",
              "654  654  Worcester, Mass. - When the standard malaria m...\n",
              "655  655  WHAT: A new study shows that the drug fenofibr..."
            ]
          },
          "metadata": {
            "tags": []
          },
          "execution_count": 53
        }
      ]
    },
    {
      "cell_type": "code",
      "metadata": {
        "id": "BaquZEwK1ygB",
        "colab_type": "code",
        "colab": {}
      },
      "source": [
        "df_bert_train.to_csv(\"train.tsv\", sep='\\t', index=False, header=False)\n",
        "df_bert_dev.to_csv('dev.tsv', sep='\\t', index=False, header=False)\n",
        "df_bert_test.to_csv('test.tsv', sep='\\t', index=False, header=True)"
      ],
      "execution_count": null,
      "outputs": []
    },
    {
      "cell_type": "markdown",
      "metadata": {
        "id": "ZrKbZ9gPTint",
        "colab_type": "text"
      },
      "source": [
        "1.   Bert models are fine-tuned using the train, test and dev tsv files.\n",
        "2.   The program outputs a test_results file, which is used to calculate the acccuracy or f1 score."
      ]
    },
    {
      "cell_type": "code",
      "metadata": {
        "id": "L2aNrtHBJB-X",
        "colab_type": "code",
        "colab": {
          "base_uri": "https://localhost:8080/",
          "height": 218
        },
        "outputId": "c58fc2b0-1def-454f-d613-52ab3cffbb1e"
      },
      "source": [
        "import  csv\n",
        "label_results=[]\n",
        "pd.DataFrame()\n",
        "with open('test_results.tsv') as file:\n",
        "    rd = csv.reader(file, delimiter=\"\\t\")\n",
        "    for row in rd:\n",
        "      data_1=[float(i) for i in row]\n",
        "      label_results.append(data_1.index(max(data_1)))\n",
        "df_results=pd.DataFrame()\n",
        "df_results=pd.DataFrame(label_results)\n",
        "df_results[0]"
      ],
      "execution_count": null,
      "outputs": [
        {
          "output_type": "execute_result",
          "data": {
            "text/plain": [
              "0      2\n",
              "1      2\n",
              "2      2\n",
              "3      2\n",
              "4      2\n",
              "      ..\n",
              "651    1\n",
              "652    1\n",
              "653    1\n",
              "654    1\n",
              "655    1\n",
              "Name: 0, Length: 656, dtype: int64"
            ]
          },
          "metadata": {
            "tags": []
          },
          "execution_count": 54
        }
      ]
    },
    {
      "cell_type": "code",
      "metadata": {
        "id": "6msRmZ0GJQeV",
        "colab_type": "code",
        "colab": {
          "base_uri": "https://localhost:8080/",
          "height": 67
        },
        "outputId": "349b1be3-e550-4c8d-9772-d5cf2a8cbc59"
      },
      "source": [
        "from sklearn.metrics import confusion_matrix\n",
        "confusion_matrix(data_test[0], df_results[0])"
      ],
      "execution_count": null,
      "outputs": [
        {
          "output_type": "execute_result",
          "data": {
            "text/plain": [
              "array([[  1, 178,   0],\n",
              "       [  1, 178,   0],\n",
              "       [  0,   0, 298]])"
            ]
          },
          "metadata": {
            "tags": []
          },
          "execution_count": 55
        }
      ]
    },
    {
      "cell_type": "code",
      "metadata": {
        "id": "Sm6-KIDPJovi",
        "colab_type": "code",
        "colab": {
          "base_uri": "https://localhost:8080/",
          "height": 50
        },
        "outputId": "d32770c1-3484-4b4c-a92c-dac2725e60f1"
      },
      "source": [
        "from sklearn import metrics\n",
        "print(\"Accuracy\",metrics.accuracy_score(data_test[0], df_results[0]))\n",
        "print(\"F1-Score\",metrics.f1_score(data_test[0], df_results[0],average='weighted'))"
      ],
      "execution_count": null,
      "outputs": [
        {
          "output_type": "stream",
          "text": [
            "Accuracy 0.7271341463414634\n",
            "F1-Score 0.6388539343388993\n"
          ],
          "name": "stdout"
        }
      ]
    }
  ]
}